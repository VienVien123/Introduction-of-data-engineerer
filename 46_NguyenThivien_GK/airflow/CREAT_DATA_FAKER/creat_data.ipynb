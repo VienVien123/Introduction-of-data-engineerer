{
 "cells": [
  {
   "cell_type": "code",
   "execution_count": 1,
   "metadata": {},
   "outputs": [
    {
     "name": "stdout",
     "output_type": "stream",
     "text": [
      "Đã tạo và lưu dữ liệu vào employees.csv\n"
     ]
    }
   ],
   "source": [
    "import csv\n",
    "from faker import Faker\n",
    "\n",
    "# Khởi tạo đối tượng Faker\n",
    "fake = Faker()\n",
    "\n",
    "# Tạo dữ liệu giả và lưu vào danh sách\n",
    "data = []\n",
    "for _ in range(10):\n",
    "    record = {\n",
    "        'id': fake.random_number(digits=5),\n",
    "        'name': fake.name(),\n",
    "        'age': fake.random_int(min=18, max=65),\n",
    "        'city': fake.city(),\n",
    "        'salary': fake.random_number(digits=5)\n",
    "    }\n",
    "    data.append(record)\n",
    "\n",
    "# Tên của các trường thông tin\n",
    "fields = ['id', 'name', 'age', 'city', 'salary']\n",
    "\n",
    "# Ghi dữ liệu vào tệp CSV\n",
    "with open('employees.csv', 'w', newline='') as csvfile:\n",
    "    writer = csv.DictWriter(csvfile, fieldnames=fields)\n",
    "    \n",
    "    # Ghi tên các trường thông tin vào hàng đầu tiên của tệp CSV\n",
    "    writer.writeheader()\n",
    "    \n",
    "    # Ghi dữ liệu từ danh sách vào tệp CSV\n",
    "    writer.writerows(data)\n",
    "\n",
    "print(\"Đã tạo và lưu dữ liệu vào employees.csv\")\n"
   ]
  },
  {
   "cell_type": "code",
   "execution_count": null,
   "metadata": {},
   "outputs": [],
   "source": []
  }
 ],
 "metadata": {
  "kernelspec": {
   "display_name": "Python 3",
   "language": "python",
   "name": "python3"
  },
  "language_info": {
   "codemirror_mode": {
    "name": "ipython",
    "version": 3
   },
   "file_extension": ".py",
   "mimetype": "text/x-python",
   "name": "python",
   "nbconvert_exporter": "python",
   "pygments_lexer": "ipython3",
   "version": "3.12.1"
  }
 },
 "nbformat": 4,
 "nbformat_minor": 2
}
